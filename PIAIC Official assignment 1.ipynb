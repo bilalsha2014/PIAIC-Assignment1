{
 "cells": [
  {
   "cell_type": "markdown",
   "metadata": {},
   "source": [
    "#### Name: Bilal Ahmed Shah"
   ]
  },
  {
   "cell_type": "markdown",
   "metadata": {},
   "source": [
    "#### Roll Number: AIC004994"
   ]
  },
  {
   "cell_type": "markdown",
   "metadata": {},
   "source": [
    "#### Teacher Name: Noman Islam"
   ]
  },
  {
   "cell_type": "markdown",
   "metadata": {},
   "source": [
    "#### Institute Name:Saylani Head Office Campus"
   ]
  },
  {
   "cell_type": "markdown",
   "metadata": {},
   "source": [
    "#### Timing:Sunday (9AM to 12PM)"
   ]
  },
  {
   "cell_type": "markdown",
   "metadata": {},
   "source": [
    "## 1. Calculate Area of a Circle"
   ]
  },
  {
   "cell_type": "markdown",
   "metadata": {},
   "source": [
    "#### Write a Python program which accepts the radius of a circle from the user and compute the area.\n",
    "###### Program Console Sample Output 1:\n",
    "###### Input Radius: 0.5\n",
    "###### Area of Circle with radius 0.5 is 0.7853981634"
   ]
  },
  {
   "cell_type": "code",
   "execution_count": 4,
   "metadata": {},
   "outputs": [
    {
     "name": "stdout",
     "output_type": "stream",
     "text": [
      "Input Radius:0.5\n",
      "Area with 0.5 is 0.7853981633974483\n"
     ]
    }
   ],
   "source": [
    "#taking input from the user\n",
    "radius=float(input(\"Input Radius:\"))\n",
    "\n",
    "#calculating area of the circle \n",
    "area_of_circle=math.pi*radius**2\n",
    "\n",
    "#Printing area of the circle\n",
    "print(\"Area with\",radius,\"is\",area_of_circle)"
   ]
  },
  {
   "cell_type": "code",
   "execution_count": null,
   "metadata": {},
   "outputs": [],
   "source": []
  },
  {
   "cell_type": "code",
   "execution_count": null,
   "metadata": {},
   "outputs": [],
   "source": []
  },
  {
   "cell_type": "markdown",
   "metadata": {},
   "source": [
    "## 2. Check Number either positive, negative or zero"
   ]
  },
  {
   "cell_type": "markdown",
   "metadata": {},
   "source": [
    "#### Write a Python program to check if a number is positive, negative or zero\n",
    "###### Program Console Sample Output 1:\n",
    "###### Enter Number: -1\n",
    "##### Negative Number Entered\n",
    "###### Program Console Sample Output 2:\n",
    "##### Integer: 3\n",
    "##### Positive Number Entered\n",
    "###### Program Console Sample Output 3:\n",
    "##### Integer: 0\n",
    "###### Zero Entered"
   ]
  },
  {
   "cell_type": "code",
   "execution_count": 2,
   "metadata": {},
   "outputs": [
    {
     "name": "stdout",
     "output_type": "stream",
     "text": [
      "Enter Number:-1\n",
      "Negative Number Entered\n"
     ]
    }
   ],
   "source": [
    "#Taking input from the user\n",
    "check_num=float(input(\"Enter Number:\"))\n",
    "\n",
    "#Using if else conditions to check number either positive negative or zero\n",
    "if check_num>0:\n",
    "    print(\"Positive Number Entered\")\n",
    "elif check_num<0:\n",
    "    print(\"Negative Number Entered\")\n",
    "else:\n",
    "    print(\"Zero Entered\")"
   ]
  },
  {
   "cell_type": "code",
   "execution_count": null,
   "metadata": {},
   "outputs": [],
   "source": []
  },
  {
   "cell_type": "code",
   "execution_count": null,
   "metadata": {},
   "outputs": [],
   "source": []
  },
  {
   "cell_type": "markdown",
   "metadata": {},
   "source": [
    "## 3. Divisibility Check of two numbers"
   ]
  },
  {
   "cell_type": "markdown",
   "metadata": {},
   "source": [
    "#### Write a Python program to check whether a number is completely divisible by another number. Accept two integer values form the user\n",
    "##### Program Console Sample Output 1:\n",
    "###### Enter numerator: 4\n",
    "###### Enter Denominator: 2\n",
    "##### Number 4 is Completely divisible by 2\n",
    "###### Program Console Sample Output 2:\n",
    "##### Enter numerator: 7\n",
    "\n",
    "##### Enter Denominator: 4\n",
    "###### Number 7 is not Completely divisible by 4"
   ]
  },
  {
   "cell_type": "code",
   "execution_count": 3,
   "metadata": {},
   "outputs": [
    {
     "name": "stdout",
     "output_type": "stream",
     "text": [
      "Enter Numerator:7\n",
      "Enter Denominator:4\n",
      "Number  7 is not completely divisible by 4\n"
     ]
    }
   ],
   "source": [
    "#taking Numerator input from user\n",
    "numerator=int(input(\"Enter Numerator:\"))\n",
    "\n",
    "#taking Denominator input from user\n",
    "denominator=int(input(\"Enter Denominator:\"))\n",
    "\n",
    "#Using if else condiition to check the number divisibility\n",
    "if numerator%denominator==0:\n",
    "    print(\"Number \",numerator,\"is completely divisible by\",denominator)\n",
    "else:\n",
    "    print(\"Number \",numerator,\"is not completely divisible by\",denominator)"
   ]
  },
  {
   "cell_type": "code",
   "execution_count": null,
   "metadata": {},
   "outputs": [],
   "source": []
  },
  {
   "cell_type": "code",
   "execution_count": null,
   "metadata": {},
   "outputs": [],
   "source": []
  },
  {
   "cell_type": "markdown",
   "metadata": {},
   "source": [
    "## 4. Calculate Volume of a sphere"
   ]
  },
  {
   "cell_type": "markdown",
   "metadata": {},
   "source": [
    "##### Write a Python program to get the volume of a sphere, please take the radius as input from user"
   ]
  },
  {
   "cell_type": "markdown",
   "metadata": {},
   "source": [
    "##### Program Console Output:\n",
    "##### Enter Radius of Sphere: 1\n",
    "###### Volume of the Sphere with Radius 1 is 4.18"
   ]
  },
  {
   "cell_type": "code",
   "execution_count": 7,
   "metadata": {},
   "outputs": [
    {
     "name": "stdout",
     "output_type": "stream",
     "text": [
      "Enter Radius of Sphere:1\n",
      "Volume of the Sphere with 1 is 4.189\n"
     ]
    }
   ],
   "source": [
    "#Taking radius as an input\n",
    "radius=int(input(\"Enter Radius of Sphere:\"))\n",
    "\n",
    "#using formula to calculate the volume of the sphere\n",
    "volume=(4/3)*math.pi*radius**3\n",
    "\n",
    "#Rounding off the volume to 3 decimal places\n",
    "volume=round(volume,3)\n",
    "\n",
    "#printing volume\n",
    "print(\"Volume of the Sphere with\",radius,\"is\",volume)"
   ]
  },
  {
   "cell_type": "code",
   "execution_count": null,
   "metadata": {},
   "outputs": [],
   "source": []
  },
  {
   "cell_type": "code",
   "execution_count": null,
   "metadata": {},
   "outputs": [],
   "source": []
  },
  {
   "cell_type": "markdown",
   "metadata": {},
   "source": [
    "## 5. Copy string n times\n",
    "#### Write a Python program to get a string which is n (non-negative integer) copies of a given string.\n",
    "##### Program Console Output:\n",
    "##### Enter String: Hi\n",
    "###### How many copies of String you need: 4\n",
    "###### 4 Copies of Hi are HiHiHiHi"
   ]
  },
  {
   "cell_type": "code",
   "execution_count": 8,
   "metadata": {},
   "outputs": [
    {
     "name": "stdout",
     "output_type": "stream",
     "text": [
      "Enter String:Hi\n",
      "How many copies of String you need:4\n",
      "4 Copies of Hi are HiHiHiHi\n"
     ]
    }
   ],
   "source": [
    "#Taking input from the user\n",
    "string_input=input(\"Enter String:\")\n",
    "copies=int(input(\"How many copies of String you need:\"))\n",
    "\n",
    "#printing copies\n",
    "print(copies,\"Copies of\",string_input,\"are\",copies*string_input)"
   ]
  },
  {
   "cell_type": "code",
   "execution_count": null,
   "metadata": {},
   "outputs": [],
   "source": []
  },
  {
   "cell_type": "code",
   "execution_count": null,
   "metadata": {},
   "outputs": [],
   "source": []
  },
  {
   "cell_type": "markdown",
   "metadata": {},
   "source": [
    "## 6. Check if number is Even or Odd\n",
    "### Write a Python program to find whether a given number (accept from the user) is even or odd, print out an appropriate message to the user\n",
    "#### Program Console Output 1:\n",
    "##### Enter Number: 4\n",
    "###### 4 is Even\n",
    "#### Program Console Output 2:\n",
    "##### Enter Number: 9\n",
    "###### 9 is Odd"
   ]
  },
  {
   "cell_type": "code",
   "execution_count": 9,
   "metadata": {},
   "outputs": [
    {
     "name": "stdout",
     "output_type": "stream",
     "text": [
      "Enter Number:4\n",
      "4 is Even\n"
     ]
    }
   ],
   "source": [
    "#Taking input from the user\n",
    "num=int(input(\"Enter Number:\"))\n",
    "\n",
    "#Using If else condition to check if number is even or odd\n",
    "if num%2==0:\n",
    "    print(num,\"is Even\")\n",
    "else:\n",
    "    print(num,\"is Odd\")"
   ]
  },
  {
   "cell_type": "code",
   "execution_count": null,
   "metadata": {},
   "outputs": [],
   "source": []
  },
  {
   "cell_type": "code",
   "execution_count": null,
   "metadata": {},
   "outputs": [],
   "source": []
  },
  {
   "cell_type": "markdown",
   "metadata": {},
   "source": [
    "## 7. Vowel Tester\n",
    "### Write a Python program to test whether a passed letter is a vowel or not\n",
    "#### Program Console Output 1:\n",
    "##### Enter a character: A\n",
    "###### Letter A is Vowel\n",
    "#### Program Console Output 2:\n",
    "##### Enter a character: e\n",
    "###### Letter e is Vowel\n",
    "#### Program Console Output 2:\n",
    "##### Enter a character: N\n",
    "###### Letter N is not Vowel"
   ]
  },
  {
   "cell_type": "code",
   "execution_count": 10,
   "metadata": {},
   "outputs": [
    {
     "name": "stdout",
     "output_type": "stream",
     "text": [
      "Enter a character:a\n",
      "Letter a is Vowel\n"
     ]
    }
   ],
   "source": [
    "#Taking input from the user\n",
    "char=input(\"Enter a character:\")\n",
    "\n",
    "#Using If else condition to check if character is vowel or not\n",
    "if char.upper() in (\"A\",\"E\",\"I\",\"O\",\"U\"):\n",
    "    print(\"Letter\",char,\"is Vowel\")\n",
    "else:\n",
    "    print(\"Letter\",char,\"is not Vowel\")"
   ]
  },
  {
   "cell_type": "code",
   "execution_count": null,
   "metadata": {},
   "outputs": [],
   "source": []
  },
  {
   "cell_type": "code",
   "execution_count": null,
   "metadata": {},
   "outputs": [],
   "source": []
  },
  {
   "cell_type": "markdown",
   "metadata": {},
   "source": [
    "## 8. Triangle area\n",
    "### Write a Python program that will accept the base and height of a triangle and compute the area\n",
    "###### Reference:\n",
    "https://www.mathgoodies.com/lessons/vol1/area_triangle"
   ]
  },
  {
   "cell_type": "code",
   "execution_count": 11,
   "metadata": {},
   "outputs": [
    {
     "name": "stdout",
     "output_type": "stream",
     "text": [
      "Enter Base Of a triangle:10\n",
      "Enter Height Of a triangle:20\n",
      "Area of triangle is 100.0\n"
     ]
    }
   ],
   "source": [
    "#Taking Input\n",
    "base=float(input(\"Enter Base Of a triangle:\"))\n",
    "height=float(input(\"Enter Height Of a triangle:\"))\n",
    "\n",
    "#Using area formula for traingle\n",
    "area=(1/2)*base*height\n",
    "\n",
    "#Final output i.e Area of a triangle\n",
    "print(\"Area of triangle is\",area)"
   ]
  },
  {
   "cell_type": "code",
   "execution_count": null,
   "metadata": {},
   "outputs": [],
   "source": []
  },
  {
   "cell_type": "code",
   "execution_count": null,
   "metadata": {},
   "outputs": [],
   "source": []
  },
  {
   "cell_type": "markdown",
   "metadata": {},
   "source": [
    "## 9. Calculate Interest\n",
    "### Write a Python program to compute the future value of a specified principal amount, rate of interest, and a number of years\n",
    "#### Program Console Sample 1:\n",
    "##### Please enter principal amount: 10000\n",
    "###### Please Enter Rate of interest in %: 0.1\n",
    "###### Enter number of years for investment: 5\n",
    "###### After 5 years your principal amount 10000 over an interest rate of 0.1 % will be 16105.1"
   ]
  },
  {
   "cell_type": "code",
   "execution_count": 13,
   "metadata": {},
   "outputs": [
    {
     "name": "stdout",
     "output_type": "stream",
     "text": [
      "Please enter principal amount:10000\n",
      "Please Enter Rate of interest in %:0.1\n",
      "Enter number of years for investment:5\n",
      "After 5 years your principal amount 10000 over an interest rate of 0.1 % will be 16105.1\n"
     ]
    }
   ],
   "source": [
    "#Taking Input\n",
    "amount=int(input(\"Please enter principal amount:\"))\n",
    "interest=float(input(\"Please Enter Rate of interest in %:\"))\n",
    "years=int(input(\"Enter number of years for investment:\"))\n",
    "\n",
    "#Using formula to compute the future value of a specified principal amount\n",
    "future_value=amount*(1+interest)**years\n",
    "\n",
    "#Using round function to round off the result to one decimal place\n",
    "future_value=round(future_value,1)\n",
    "\n",
    "#Printing the future value\n",
    "print(\"After\",years,\"years your principal amount\",amount,\"over an interest rate of\",interest,\"% will be\",future_value)"
   ]
  },
  {
   "cell_type": "code",
   "execution_count": null,
   "metadata": {},
   "outputs": [],
   "source": []
  },
  {
   "cell_type": "code",
   "execution_count": null,
   "metadata": {},
   "outputs": [],
   "source": []
  },
  {
   "cell_type": "markdown",
   "metadata": {},
   "source": [
    "## 10. Euclidean distance\n",
    "### write a Python program to compute the distance between the points (x1, y1) and (x2, y2).\n",
    "#### Program Console Sample 1:\n",
    "###### Enter Co-ordinate for x1: 2\n",
    "###### Enter Co-ordinate for x2: 4\n",
    "###### Enter Co-ordinate for y1: 4\n",
    "###### Enter Co-ordinate for y2: 4\n",
    "###### Distance between points (2, 4) and (4, 4) is 2"
   ]
  },
  {
   "cell_type": "markdown",
   "metadata": {},
   "source": [
    "###### Reference:\n",
    "https://en.wikipedia.org/wiki/Euclidean_distance"
   ]
  },
  {
   "cell_type": "code",
   "execution_count": 14,
   "metadata": {},
   "outputs": [
    {
     "name": "stdout",
     "output_type": "stream",
     "text": [
      "Enter Co-ordinate for x1:2\n",
      "Enter Co-ordinate for x2:4\n",
      "Enter Co-ordinate for y1:4\n",
      "Enter Co-ordinate for y2:4\n",
      "Distance between points (2,4) and (4,4) is  2.0\n"
     ]
    }
   ],
   "source": [
    "#Taking Input\n",
    "x1=int(input(\"Enter Co-ordinate for x1:\"))\n",
    "x2=int(input(\"Enter Co-ordinate for x2:\"))\n",
    "y1=int(input(\"Enter Co-ordinate for y1:\"))\n",
    "y2=int(input(\"Enter Co-ordinate for y2:\"))\n",
    "\n",
    "#Organizing Coordinates in such a pattern to use their text in final result\n",
    "a1=\"(\"+str(x1)+\",\"+str(x2)+\")\"\n",
    "b1=\"(\"+str(y1)+\",\"+str(y2)+\")\"\n",
    "\n",
    "#Using Eclidean distance formulae\n",
    "euclidean_distance=math.sqrt((y1-x1)**2+(y2-x2)**2)\n",
    "\n",
    "#Print desired results\n",
    "print(\"Distance between points\",a1,\"and\",b1, \"is \",euclidean_distance)"
   ]
  },
  {
   "cell_type": "code",
   "execution_count": null,
   "metadata": {},
   "outputs": [],
   "source": []
  },
  {
   "cell_type": "code",
   "execution_count": null,
   "metadata": {},
   "outputs": [],
   "source": []
  },
  {
   "cell_type": "markdown",
   "metadata": {},
   "source": [
    "## 11. Feet to Centimeter Converter\n",
    "### Write a Python program to convert height in feet to centimetres.\n",
    "##### Program Console Sample 1:\n",
    "###### Enter Height in Feet: 5\n",
    "###### There are 152.4 Cm in 5 ft\n",
    "###### Reference:\n",
    "https://www.rapidtables.com/convert/length/feet-to-cm.html"
   ]
  },
  {
   "cell_type": "code",
   "execution_count": 15,
   "metadata": {},
   "outputs": [
    {
     "name": "stdout",
     "output_type": "stream",
     "text": [
      "Enter height in Feet:5\n",
      "There are 152.4 Cm in 5.0\n"
     ]
    }
   ],
   "source": [
    "#Taking Input\n",
    "height_ft=float(input(\"Enter height in Feet:\"))\n",
    "\n",
    "#Using ft to cm formulae\n",
    "height_cm=height_ft*30.48\n",
    "\n",
    "#Printing formulae output\n",
    "print(\"There are\",height_cm,\"Cm in\",height_ft)"
   ]
  },
  {
   "cell_type": "code",
   "execution_count": null,
   "metadata": {},
   "outputs": [],
   "source": []
  },
  {
   "cell_type": "code",
   "execution_count": null,
   "metadata": {},
   "outputs": [],
   "source": []
  },
  {
   "cell_type": "markdown",
   "metadata": {},
   "source": [
    "## 12. BMI Calculator\n",
    "### Write a Python program to calculate body mass index\n",
    "##### Program Console Sample 1:\n",
    "###### Enter Height in Cm: 180\n",
    "###### Enter Weight in Kg: 75\n",
    "###### Your BMI is 23.15"
   ]
  },
  {
   "cell_type": "code",
   "execution_count": 16,
   "metadata": {},
   "outputs": [
    {
     "name": "stdout",
     "output_type": "stream",
     "text": [
      "Enter Height in Cm:180\n",
      "Enter Weight in Kg:75\n",
      "Your BMI is 23.15\n"
     ]
    }
   ],
   "source": [
    "#Taking Input\n",
    "Height=float(input(\"Enter Height in Cm:\"))\n",
    "Weight=float(input(\"Enter Weight in Kg:\"))\n",
    "\n",
    "#Using Formulae to caluclate BMI\n",
    "BMI=Weight/((Height*0.01)**2)\n",
    "\n",
    "#Using round() function to round off BMI To 2 decimal place\n",
    "BMI=round(BMI,2)\n",
    "\n",
    "#Printing output\n",
    "print(\"Your BMI is\",BMI)"
   ]
  },
  {
   "cell_type": "code",
   "execution_count": null,
   "metadata": {},
   "outputs": [],
   "source": []
  },
  {
   "cell_type": "code",
   "execution_count": null,
   "metadata": {},
   "outputs": [],
   "source": []
  },
  {
   "cell_type": "markdown",
   "metadata": {},
   "source": [
    "## 13. Sum of n Positive Integers\n",
    "### Write a python program to sum of the first n positive integers\n",
    "#### Program Console Sample 1:\n",
    "###### Enter value of n: 5\n",
    "###### Sum of n Positive integers till 5 is 15"
   ]
  },
  {
   "cell_type": "code",
   "execution_count": 17,
   "metadata": {},
   "outputs": [
    {
     "name": "stdout",
     "output_type": "stream",
     "text": [
      "Enter value of n:5\n",
      "Sum of n Positive integers till 5 is 15\n"
     ]
    }
   ],
   "source": [
    "#taking input\n",
    "value=int(input(\"Enter value of n:\"))\n",
    "\n",
    "#Assigning sum to zero so that loop values should be added to this sum value i.e 0\n",
    "sum=0\n",
    "\n",
    "#using loop to print positive integers\n",
    "for i in range(value+1):\n",
    "#Adding the loop values in sum variable each time the loop is repeat its new value is added to the previous one\n",
    "    sum=sum+i\n",
    "    \n",
    "#Printing Sum of n positive inteers\n",
    "print(\"Sum of n Positive integers till\",value,\"is\",sum)\n"
   ]
  },
  {
   "cell_type": "code",
   "execution_count": null,
   "metadata": {},
   "outputs": [],
   "source": []
  },
  {
   "cell_type": "code",
   "execution_count": null,
   "metadata": {},
   "outputs": [],
   "source": []
  },
  {
   "cell_type": "markdown",
   "metadata": {},
   "source": [
    "## 14. Digits Sum of a Number\n",
    "### Write a Python program to calculate the sum of the digits in an integer\n",
    "#### Program Console Sample 1:\n",
    "##### Enter a number: 15\n",
    "###### Sum of 1 + 5 is 6\n",
    "#### Program Console Sample 2:\n",
    "##### Enter a number: 1234\n",
    "###### Sum of 1 + 2 + 3 + 4 is 10"
   ]
  },
  {
   "cell_type": "code",
   "execution_count": 18,
   "metadata": {},
   "outputs": [
    {
     "name": "stdout",
     "output_type": "stream",
     "text": [
      "Enter a number:1234\n",
      "Sum of 1234 is 10\n"
     ]
    }
   ],
   "source": [
    "#Assigning sum zero value to use this variable in loop for sum of the digitis in an integer\n",
    "sum=0\n",
    "\n",
    "#Taking input\n",
    "num=input(\"Enter a number:\")\n",
    "\n",
    "#Using loop to caluclate the sum of digitis in an integers \n",
    "for i in num:\n",
    "    sum=sum+int(i)\n",
    "    \n",
    "#Printing Results\n",
    "print(\"Sum of\",num,\"is\",sum)"
   ]
  },
  {
   "cell_type": "code",
   "execution_count": null,
   "metadata": {},
   "outputs": [],
   "source": []
  },
  {
   "cell_type": "code",
   "execution_count": null,
   "metadata": {},
   "outputs": [],
   "source": []
  },
  {
   "cell_type": "code",
   "execution_count": null,
   "metadata": {},
   "outputs": [],
   "source": []
  },
  {
   "cell_type": "code",
   "execution_count": null,
   "metadata": {},
   "outputs": [],
   "source": []
  }
 ],
 "metadata": {
  "kernelspec": {
   "display_name": "Python 3",
   "language": "python",
   "name": "python3"
  },
  "language_info": {
   "codemirror_mode": {
    "name": "ipython",
    "version": 3
   },
   "file_extension": ".py",
   "mimetype": "text/x-python",
   "name": "python",
   "nbconvert_exporter": "python",
   "pygments_lexer": "ipython3",
   "version": "3.7.1"
  }
 },
 "nbformat": 4,
 "nbformat_minor": 2
}
